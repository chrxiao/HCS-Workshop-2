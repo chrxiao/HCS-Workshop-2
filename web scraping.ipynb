{
 "cells": [
  {
   "cell_type": "code",
   "execution_count": null,
   "metadata": {},
   "outputs": [],
   "source": [
    "# Scraping and comparing Spotify Top 50 by Country playlists"
   ]
  },
  {
   "cell_type": "code",
   "execution_count": 88,
   "metadata": {},
   "outputs": [],
   "source": [
    "import requests\n",
    "from bs4 import BeautifulSoup\n",
    "\n",
    "def scrape(url): \n",
    "    page = requests.get(url)\n",
    "    soup = BeautifulSoup(page.content, 'html.parser')\n",
    "    top_tracks = soup.find_all(class_=\"track-name\")\n",
    "    top_tracks_cleaned = []\n",
    "    for track in top_tracks:\n",
    "        top_tracks_cleaned.append(track.get_text())\n",
    "    return top_tracks_cleaned"
   ]
  },
  {
   "cell_type": "code",
   "execution_count": 94,
   "metadata": {},
   "outputs": [],
   "source": [
    "# I chose 1 country from each continent (sorry Antarctica) to compare\n",
    "# Africa\n",
    "south_africa = scrape(\"https://open.spotify.com/playlist/37i9dQZEVXbMH2jvi6jvjk\")\n",
    "# Asia\n",
    "singapore = scrape(\"https://open.spotify.com/playlist/37i9dQZEVXbK4gjvS1FjPY\")\n",
    "# Europe\n",
    "france = scrape(\"https://open.spotify.com/playlist/37i9dQZEVXbIPWwFssbupI\")\n",
    "# North America\n",
    "united_states = scrape(\"https://open.spotify.com/playlist/37i9dQZEVXbLRQDuF5jeBp\")\n",
    "# South America\n",
    "colombia = scrape(\"https://open.spotify.com/playlist/37i9dQZEVXbOa2lmxNORXQ\")\n",
    "# Australia\n",
    "australia = scrape(\"https://open.spotify.com/playlist/37i9dQZEVXbJPcfkRz0wJ0\")"
   ]
  },
  {
   "cell_type": "code",
   "execution_count": 99,
   "metadata": {},
   "outputs": [],
   "source": [
    "def compare(country1, country2, names):\n",
    "    for track in country1:\n",
    "        if track in country2: \n",
    "            print(track)\n",
    "            print(\"•\", country1.index(track)+1, \"in\", names[0])\n",
    "            print(\"•\", country2.index(track)+1, \"in\", names[1])\n",
    "            print()"
   ]
  },
  {
   "cell_type": "code",
   "execution_count": 103,
   "metadata": {},
   "outputs": [
    {
     "name": "stdout",
     "output_type": "stream",
     "text": [
      "positions\n",
      "• 1 in the United States\n",
      "• 3 in Australia\n",
      "\n",
      "Lemonade (feat. Gunna, Don Toliver & NAV)\n",
      "• 3 in the United States\n",
      "• 7 in Australia\n",
      "\n",
      "Mood (feat. iann dior)\n",
      "• 4 in the United States\n",
      "• 1 in Australia\n",
      "\n",
      "WAP (feat. Megan Thee Stallion)\n",
      "• 5 in the United States\n",
      "• 4 in Australia\n",
      "\n",
      "For The Night (feat. Lil Baby & DaBaby)\n",
      "• 6 in the United States\n",
      "• 11 in Australia\n",
      "\n",
      "What You Know Bout Love\n",
      "• 8 in the United States\n",
      "• 5 in Australia\n",
      "\n",
      "Laugh Now Cry Later (feat. Lil Durk)\n",
      "• 9 in the United States\n",
      "• 19 in Australia\n",
      "\n",
      "Holy (feat. Chance The Rapper)\n",
      "• 11 in the United States\n",
      "• 6 in Australia\n",
      "\n",
      "Dreams - 2004 Remaster\n",
      "• 13 in the United States\n",
      "• 8 in Australia\n",
      "\n",
      "ROCKSTAR (feat. Roddy Ricch)\n",
      "• 14 in the United States\n",
      "• 15 in Australia\n",
      "\n",
      "Come & Go (with Marshmello)\n",
      "• 15 in the United States\n",
      "• 22 in Australia\n",
      "\n",
      "Lonely (with benny blanco)\n",
      "• 16 in the United States\n",
      "• 17 in Australia\n",
      "\n",
      "Put Your Records On\n",
      "• 17 in the United States\n",
      "• 9 in Australia\n",
      "\n",
      "Blinding Lights\n",
      "• 18 in the United States\n",
      "• 21 in Australia\n",
      "\n",
      "you broke me first\n",
      "• 22 in the United States\n",
      "• 10 in Australia\n",
      "\n",
      "SO DONE\n",
      "• 26 in the United States\n",
      "• 24 in Australia\n",
      "\n",
      "Dynamite\n",
      "• 27 in the United States\n",
      "• 26 in Australia\n",
      "\n"
     ]
    }
   ],
   "source": [
    "compare(united_states, australia, [\"the United States\", \"Australia\"])"
   ]
  }
 ],
 "metadata": {
  "kernelspec": {
   "display_name": "Python 3",
   "language": "python",
   "name": "python3"
  },
  "language_info": {
   "codemirror_mode": {
    "name": "ipython",
    "version": 3
   },
   "file_extension": ".py",
   "mimetype": "text/x-python",
   "name": "python",
   "nbconvert_exporter": "python",
   "pygments_lexer": "ipython3",
   "version": "3.8.3"
  }
 },
 "nbformat": 4,
 "nbformat_minor": 4
}
